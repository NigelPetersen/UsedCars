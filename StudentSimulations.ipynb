{
  "nbformat": 4,
  "nbformat_minor": 0,
  "metadata": {
    "colab": {
      "provenance": []
    },
    "kernelspec": {
      "name": "ir",
      "display_name": "R"
    },
    "language_info": {
      "name": "R"
    }
  },
  "cells": [
    {
      "cell_type": "code",
      "execution_count": 5,
      "metadata": {
        "id": "PuV5v7QbaZA6"
      },
      "outputs": [],
      "source": [
        "library(tidyverse)"
      ]
    },
    {
      "cell_type": "code",
      "source": [
        "PlaneSeatingSimulation <- function(num_passengers, num_seats, num_trials){\n",
        "      if(num_seats < num_passengers){\n",
        "        return(\"There are not enough seats\")\n",
        "      }\n",
        "      run = 1\n",
        "      prop= 0\n",
        "      while(run <= num_trials){\n",
        "        passengers = c(seq(1, num_passengers))\n",
        "        seats = c(rep(0, num_seats))\n",
        "        seats[sample(c(seq(1, num_seats)), 1)] = 1\n",
        "        passengers = passengers[2:length(passengers)]\n",
        "        while(length(passengers) > 1){\n",
        "          if(seats[passengers[1]] == 1){\n",
        "            choice = sample(which(seats==0), 1)\n",
        "            seats[choice] = 1\n",
        "          }\n",
        "          else{\n",
        "            seats[passengers[1]] = 1\n",
        "          }\n",
        "          passengers = passengers[2:length(passengers)]\n",
        "        }\n",
        "        if(seats[num_passengers] == 0){\n",
        "          prop= prop+ 1\n",
        "        }\n",
        "        run = run + 1\n",
        "      }\n",
        "      return(prop/num_trials)\n",
        "    }\n",
        "PlaneSeatingSimulation(num_passengers = 10, num_seats = 10, num_trials = 10000)"
      ],
      "metadata": {
        "colab": {
          "base_uri": "https://localhost:8080/",
          "height": 34
        },
        "id": "lI0qOFk9aupw",
        "outputId": "2000cbe6-712e-49bd-cdc0-310c1bdeee76"
      },
      "execution_count": 8,
      "outputs": [
        {
          "output_type": "display_data",
          "data": {
            "text/html": [
              "0.5042"
            ],
            "text/markdown": "0.5042",
            "text/latex": "0.5042",
            "text/plain": [
              "[1] 0.5042"
            ]
          },
          "metadata": {}
        }
      ]
    },
    {
      "cell_type": "code",
      "source": [],
      "metadata": {
        "id": "ZP96I_Xwbmh7"
      },
      "execution_count": null,
      "outputs": []
    },
    {
      "cell_type": "code",
      "source": [],
      "metadata": {
        "id": "95C1v1vHl_FY"
      },
      "execution_count": null,
      "outputs": []
    },
    {
      "cell_type": "code",
      "source": [],
      "metadata": {
        "id": "nbCHQmoghg45"
      },
      "execution_count": null,
      "outputs": []
    },
    {
      "cell_type": "code",
      "source": [],
      "metadata": {
        "id": "SgMxZ3AAjWWH"
      },
      "execution_count": 48,
      "outputs": []
    }
  ]
}